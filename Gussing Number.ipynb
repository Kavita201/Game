{
 "cells": [
  {
   "cell_type": "code",
   "execution_count": null,
   "id": "a989b2e1-882c-45ea-bb39-a79fa8aefbb5",
   "metadata": {},
   "outputs": [],
   "source": [
    "import getpass\n",
    "\n",
    "# Prompting user to input the range for guessing\n",
    "\n",
    "lower = int(input(\"Enter the lower Number for guessing: \"))\n",
    "upper = int(input(\"Enter the upper Higher for guessing: \"))\n",
    "\n",
    "# Calculating the total number of chances based on the range using binary search logic\n",
    "total_chances = 0\n",
    "size = upper - lower + 1\n",
    "while size > 1:\n",
    "    size = size // 2\n",
    "    total_chances += 1\n",
    "\n",
    "print(\"\\n\\tYou only have\", total_chances, \"chances to guess the integer!\\n\")\n",
    "\n",
    "# Prompting the user to set the target number within the specified range (hidden)\n",
    "while True:\n",
    "    x = int(getpass.getpass(f\"Enter a number for others to guess between {lower} and {upper}: \"))\n",
    "    if lower <= x <= upper:\n",
    "        break\n",
    "    print(f\"Please enter a number within the range {lower} to {upper}.\")\n",
    "\n",
    "# Initializing the number of guesses and a flag\n",
    "count = 0\n",
    "flag = False\n",
    "\n",
    "# The main loop where the user attempts to guess the number\n",
    "while count < total_chances:\n",
    "    count += 1\n",
    "\n",
    "    # Taking the guessing number as input\n",
    "    guess = int(input(\"Guess a number: \"))\n",
    "\n",
    "    # Condition testing to compare the guessed number with the actual number\n",
    "    if x == guess:\n",
    "        print(\"Congratulations! You guessed it in\", count, \"tries\")\n",
    "        flag = True\n",
    "        break\n",
    "    elif x > guess:\n",
    "        print(\"You guessed too small!\")\n",
    "       \n",
    "    elif x < guess:\n",
    "        print(\"You guessed too high!\")\n",
    "       \n",
    "\n",
    "if not flag:\n",
    "    print(\"\\nThe number was %d\" % x)\n",
    "    print(\"\\tBetter luck next time!\")\n",
    "\n"
   ]
  },
  {
   "cell_type": "code",
   "execution_count": null,
   "id": "a490256e-777b-4b8f-acad-37ee616df52e",
   "metadata": {},
   "outputs": [],
   "source": []
  }
 ],
 "metadata": {
  "kernelspec": {
   "display_name": "Python 3 (ipykernel)",
   "language": "python",
   "name": "python3"
  },
  "language_info": {
   "codemirror_mode": {
    "name": "ipython",
    "version": 3
   },
   "file_extension": ".py",
   "mimetype": "text/x-python",
   "name": "python",
   "nbconvert_exporter": "python",
   "pygments_lexer": "ipython3",
   "version": "3.12.4"
  }
 },
 "nbformat": 4,
 "nbformat_minor": 5
}
